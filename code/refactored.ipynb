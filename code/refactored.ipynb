{
 "cells": [
  {
   "cell_type": "code",
   "execution_count": 1,
   "metadata": {},
   "outputs": [],
   "source": [
    "from shapely.geometry import Point, Polygon\n",
    "import pandas as pd\n",
    "import geopandas as gpd\n",
    "import glob, time\n",
    "%matplotlib inline\n",
    "pd.options.mode.chained_assignment = None  # default='warn'\n",
    "gpd.options.use_pygeos = True"
   ]
  },
  {
   "cell_type": "code",
   "execution_count": 2,
   "metadata": {},
   "outputs": [],
   "source": [
    "def get_input():\n",
    "    \n",
    "#     point = input(\"Digite uma coordenada geográfica no formato -27.1234, -50.1234:\" )\n",
    "    \n",
    "#     point = point.split(\",\")\n",
    "        \n",
    "#     point = [float(coord.strip()) for coord in point]\n",
    "    \n",
    "#     point = Point(point)\n",
    "    \n",
    "#     print(\"kkkkk infelizmente por enquanto a gente só suporta a minha casa mesmo malz\")\n",
    "    \n",
    "    point = Point(-46.6598, -23.5318)\n",
    "    \n",
    "    return point"
   ]
  },
  {
   "cell_type": "code",
   "execution_count": 3,
   "metadata": {},
   "outputs": [],
   "source": [
    "def find_user_area(point):\n",
    "    pass"
   ]
  },
  {
   "cell_type": "code",
   "execution_count": 4,
   "metadata": {},
   "outputs": [],
   "source": [
    "def read_data(path_to_tracts, path_to_shp):\n",
    "    \n",
    "    dtype = { \n",
    "        \n",
    "        \"CD_GEOCODI\": str,\n",
    "        \"CD_GEOCODM\": str,\n",
    "        \"CD_MUNICIP\": str,\n",
    "        \"Cod_setor\": str\n",
    "        \n",
    "    }\n",
    "    \n",
    "    tracts = pd.read_csv(path_to_tracts, dtype=dtype)\n",
    "    #shp = gpd.read_file(path_to_shp, dtype=dtype)\n",
    "    \n",
    "    files = glob.glob(\"../data/setores_censitarios_shp/*/*.shp\")\n",
    "    shp = pd.concat([gpd.read_file(file) for file in files])\n",
    "    \n",
    "    return tracts, shp"
   ]
  },
  {
   "cell_type": "code",
   "execution_count": 5,
   "metadata": {},
   "outputs": [],
   "source": [
    "def merge_tracts_and_shape(tracts, shp):\n",
    "    \n",
    "    return shp.merge(tracts, left_on='CD_GEOCODI', right_on='Cod_setor', how='left')"
   ]
  },
  {
   "cell_type": "code",
   "execution_count": 6,
   "metadata": {},
   "outputs": [],
   "source": [
    "def covid_count():\n",
    "    return 50000"
   ]
  },
  {
   "cell_type": "code",
   "execution_count": 64,
   "metadata": {},
   "outputs": [],
   "source": [
    "def find_radius(point, tracts, spatial_index, target):\n",
    "    \n",
    "    ########################\n",
    "    ### HELPER FUNCTIONS ###\n",
    "    ########################\n",
    "    \n",
    "    def find_intersections(tracts, spatial_index, area):\n",
    "        '''\n",
    "        Finds all the polygons that intersect a given radius\n",
    "        '''\n",
    "        \n",
    "        # Uses Geopandas/PyGeos rtree to pre-filter the tracts\n",
    "        nearby_index = list(spatial_index.intersection(area.bounds))\n",
    "        \n",
    "        nearby_tracts = tracts.iloc[nearby_index]\n",
    "        \n",
    "        # Selects the tracts that do intersect with the area\n",
    "        matches = nearby_tracts [ nearby_tracts.geometry.intersects(area)]\n",
    "        \n",
    "        return matches\n",
    "        \n",
    "                    \n",
    "    def compute_population_in_area(matches, area):\n",
    "        '''\n",
    "        Calculates how many people live in the intersecting polygons.\n",
    "        Also returns an array with the intersecting shapes.\n",
    "        '''\n",
    "\n",
    "        def process_intersection(population, tract, polygon):\n",
    "\n",
    "            intersection = tract.intersection(polygon)\n",
    "\n",
    "            intersection_percentage = intersection.area / tract.area \n",
    "\n",
    "            population_in_intersection = population * intersection_percentage\n",
    "\n",
    "            return intersection, population_in_intersection\n",
    "\n",
    "        intersection, population_in_intersection = process_intersection(matches.populacao_residente.values,\n",
    "                                         matches.geometry.values,\n",
    "                                         area)\n",
    "\n",
    "        matches['geometry'] = intersection\n",
    "        matches['population_in_intersection'] = population_in_intersection\n",
    "\n",
    "        return matches\n",
    "    \n",
    "    #################\n",
    "    ### EXECUTION ###\n",
    "    #################\n",
    "    \n",
    "    checkpoint = time.time()\n",
    "    \n",
    "    total_people = 0\n",
    "    radius = .001 # This unit is lat/lon degrees\n",
    "    \n",
    "    # While we don't meet the population target, we keep increasing the radius to grab more people\n",
    "    while True:\n",
    "        \n",
    "        total_people = 0\n",
    "        \n",
    "        area = point.buffer(radius)\n",
    "        \n",
    "        matches = find_intersections(tracts, spatial_index, area)\n",
    "        \n",
    "        matches = compute_population_in_area(matches, area)\n",
    "        \n",
    "        # Computes the total people living in the area\n",
    "        total_people = round(matches.population_in_intersection.sum())\n",
    "                \n",
    "        # If the conditions is not met, keep iterating with a bigger radius\n",
    "        if total_people < target:\n",
    "        \n",
    "            # Increases the radius\n",
    "            radius = radius * 1.5\n",
    "            \n",
    "            continue\n",
    "        \n",
    "        # Else, finish the iteration\n",
    "        else:\n",
    "            \n",
    "    # Now we can move into the fine-tuning, removing excess \n",
    "    # population until we are inside a +- 5% tolerance zone\n",
    "    \n",
    "    fine_tune = .5\n",
    "\n",
    "    while True:\n",
    "        \n",
    "        if total_people > target * 1.05:\n",
    "            \n",
    "            total_people = 0\n",
    "            \n",
    "            radius = radius * (1 + fine_tune)\n",
    "            \n",
    "            area = point.buffer(radius)\n",
    "            \n",
    "            \n",
    "        \n",
    "        elif total_people < target * .95:\n",
    "            pass\n",
    "\n",
    "        \n",
    "    # After we computed the total area, we can return the matches and see how they look like!\n",
    "    print(f\"Total people: {total_people}\")\n",
    "    print(f\"Time computing area: {round(time.time() - checkpoint, 2)}s\")"
   ]
  },
  {
   "cell_type": "code",
   "execution_count": 65,
   "metadata": {},
   "outputs": [],
   "source": [
    "def main():\n",
    "    \n",
    "    # Gets input from user and turns it into a shapely point\n",
    "    point = get_input()\n",
    "    \n",
    "    # TO DO: figure out a way of detecting which data we need to load\n",
    "    find_user_area(point)\n",
    "    \n",
    "    # Reads the data\n",
    "    tracts, shp = read_data(\"../data/censo_dados_resumidos.csv\", \"../data/setores_censitarios_shp/\")\n",
    "    \n",
    "    # Merge it into a single dataframe\n",
    "    gdf = merge_tracts_and_shape(tracts, shp)\n",
    "    \n",
    "    # Remove unneeded variables\n",
    "    del tracts, shp\n",
    "        \n",
    "    # Uses a buffer to avoid self-intercepting shapes\n",
    "    gdf[\"geometry\"] = gdf.geometry.buffer(0)\n",
    "        \n",
    "    # Temporary: test with São Paulo\n",
    "    gdf = gdf [ gdf.CD_GEOCODM == \"3550308\" ]\n",
    "        \n",
    "    # TO DO: discover how many covid-19 deaths we have at this point in time\n",
    "    target = covid_count()\n",
    "    \n",
    "    # Creates a sindex to improve search\n",
    "    spatial_index = gdf.sindex\n",
    "        \n",
    "    # Finds the area that we will need to highlight along with the respective population\n",
    "    find_radius(point, gdf, spatial_index, target)\n",
    "    \n",
    "    \n",
    "    # Saves it as geojson\n",
    "    pass\n",
    "    \n",
    "    # Returns\n",
    "    pass"
   ]
  },
  {
   "cell_type": "code",
   "execution_count": 66,
   "metadata": {
    "scrolled": false
   },
   "outputs": [
    {
     "name": "stdout",
     "output_type": "stream",
     "text": [
      "Total people: 84690.0\n",
      "Time computing area: 0.08s\n"
     ]
    }
   ],
   "source": [
    "if __name__ == \"__main__\":\n",
    "    main()"
   ]
  },
  {
   "cell_type": "code",
   "execution_count": null,
   "metadata": {},
   "outputs": [],
   "source": []
  },
  {
   "cell_type": "code",
   "execution_count": null,
   "metadata": {},
   "outputs": [],
   "source": []
  },
  {
   "cell_type": "code",
   "execution_count": null,
   "metadata": {},
   "outputs": [],
   "source": []
  },
  {
   "cell_type": "code",
   "execution_count": null,
   "metadata": {},
   "outputs": [],
   "source": []
  }
 ],
 "metadata": {
  "kernelspec": {
   "display_name": "Python 3",
   "language": "python",
   "name": "python3"
  },
  "language_info": {
   "codemirror_mode": {
    "name": "ipython",
    "version": 3
   },
   "file_extension": ".py",
   "mimetype": "text/x-python",
   "name": "python",
   "nbconvert_exporter": "python",
   "pygments_lexer": "ipython3",
   "version": "3.8.3"
  }
 },
 "nbformat": 4,
 "nbformat_minor": 4
}
