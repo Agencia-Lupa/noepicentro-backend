{
 "cells": [
  {
   "cell_type": "code",
   "execution_count": 1,
   "metadata": {},
   "outputs": [
    {
     "data": {
      "text/plain": [
       "'\\nIn this script, we prepare the census tracts\\nand split the shapefile in smaller parts\\nfor better performance when running the main\\napplication.\\n'"
      ]
     },
     "execution_count": 1,
     "metadata": {},
     "output_type": "execute_result"
    }
   ],
   "source": [
    "'''\n",
    "In this script, we prepare the census tracts\n",
    "and split the shapefile in smaller parts\n",
    "for better performance when running the main\n",
    "application.\n",
    "'''"
   ]
  },
  {
   "cell_type": "code",
   "execution_count": 53,
   "metadata": {},
   "outputs": [],
   "source": [
    "from shapely.geometry import Polygon, MultiPolygon, LineString\n",
    "from shapely.ops import split\n",
    "import geopandas as gpd\n",
    "import pandas as pd\n",
    "gpd.options.use_pygeos = True"
   ]
  },
  {
   "cell_type": "code",
   "execution_count": 17,
   "metadata": {},
   "outputs": [],
   "source": [
    "def divide_bbox(rectangle, nrows, ncols):\n",
    "    \n",
    "    '''\n",
    "    Divides a rectangular bounding box in\n",
    "    rows and columns\n",
    "    \n",
    "    Reference: https://stackoverflow.com/questions/58283684/how-to-divide-a-rectangle-in-specific-number-of-rows-and-columns\n",
    "    '''\n",
    "    \n",
    "    minx, miny, maxx, maxy = rectangle.bounds\n",
    "    \n",
    "    dx = (maxx - minx) / nrows  # width of a small part\n",
    "    \n",
    "    dy = (maxy - miny) / ncols  # height of a small part\n",
    "    \n",
    "    horizontal_splitters = [LineString([(minx, miny + i*dy), (maxx, miny + i*dy)]) for i in range(ncols)]\n",
    "    \n",
    "    vertical_splitters = [LineString([(minx + i*dx, miny), (minx + i*dx, maxy)]) for i in range(nrows)]\n",
    "    \n",
    "    splitters = horizontal_splitters + vertical_splitters\n",
    "    \n",
    "    for splitter in splitters:\n",
    "        rectangle = MultiPolygon(split(rectangle, splitter))\n",
    "        \n",
    "    return [ split_rectangle for split_rectangle in rectangle ]"
   ]
  },
  {
   "cell_type": "code",
   "execution_count": 63,
   "metadata": {},
   "outputs": [],
   "source": [
    "def main():\n",
    "    \n",
    "    gdf = gpd.read_file(\"../data/setores_censitarios_shp_reduzido/\")\n",
    "    \n",
    "    brazil_bbox = Polygon([\n",
    "        [-74.3143068749,-34.2970741167],\n",
    "        [-34.4119631249,-34.2970741167],\n",
    "        [-34.4119631249,5.648611595],\n",
    "        [-74.3143068749,5.648611595],\n",
    "        [-74.3143068749,-34.2970741167]\n",
    "    ])\n",
    "    \n",
    "    \n",
    "    # Splits the bbox in a 30 x 30 grid\n",
    "    \n",
    "    smaller_bboxes = divide_bbox(brazil_bbox, 30, 30)\n",
    "    \n",
    "    smaller_bboxes = gpd.GeoDataFrame(geometry=smaller_bboxes).reset_index().rename(columns={'index':'id_no'})\n",
    "        \n",
    "    # Find the neighboring bounding boxes.\n",
    "\n",
    "    def find_neighbors(row, smaller_bboxes):\n",
    "        \n",
    "        neighbors = smaller_bboxes [ ~smaller_bboxes.geometry.disjoint(row.geometry)].id_no.tolist()\n",
    "                \n",
    "        return pd.Series({\"neighbors\": neighbors})\n",
    "\n",
    "\n",
    "    smaller_bboxes['neighbors'] = smaller_bboxes.apply(find_neighbors, args=[smaller_bboxes], axis=1)\n",
    "\n",
    "    df['neighbor_count'] = df.neighbors.str.len()\n",
    "    \n",
    "    return smaller_bboxes\n",
    "\n",
    "    \n",
    "    # Find all census tracts that inersect with the bounding box.\n",
    "\n",
    "        # If they are 100% inside, do nothing.\n",
    "\n",
    "        # If they aren't, calculate the insersection percentage.\n",
    "\n",
    "    # Adjust the population.\n",
    "\n",
    "    # Fix the geometry column with the right outline.\n",
    "        \n",
    "        \n",
    "    # For each group of neighboring bounding boxes:\n",
    "    \n",
    "        # Find the population of all neighbors.\n",
    "        \n",
    "    # Return a json object\n",
    "        \n",
    "\n",
    "    \n",
    "    "
   ]
  },
  {
   "cell_type": "code",
   "execution_count": 64,
   "metadata": {},
   "outputs": [
    {
     "data": {
      "text/html": [
       "<div>\n",
       "<style scoped>\n",
       "    .dataframe tbody tr th:only-of-type {\n",
       "        vertical-align: middle;\n",
       "    }\n",
       "\n",
       "    .dataframe tbody tr th {\n",
       "        vertical-align: top;\n",
       "    }\n",
       "\n",
       "    .dataframe thead th {\n",
       "        text-align: right;\n",
       "    }\n",
       "</style>\n",
       "<table border=\"1\" class=\"dataframe\">\n",
       "  <thead>\n",
       "    <tr style=\"text-align: right;\">\n",
       "      <th></th>\n",
       "      <th>id_no</th>\n",
       "      <th>geometry</th>\n",
       "      <th>neighbors</th>\n",
       "    </tr>\n",
       "  </thead>\n",
       "  <tbody>\n",
       "    <tr>\n",
       "      <th>0</th>\n",
       "      <td>0</td>\n",
       "      <td>POLYGON ((-34.41196 -34.29707, -35.74204 -34.2...</td>\n",
       "      <td>[0, 1, 58, 59]</td>\n",
       "    </tr>\n",
       "    <tr>\n",
       "      <th>1</th>\n",
       "      <td>1</td>\n",
       "      <td>POLYGON ((-35.74204 -34.29707, -37.07212 -34.2...</td>\n",
       "      <td>[0, 1, 2, 57, 58, 59]</td>\n",
       "    </tr>\n",
       "    <tr>\n",
       "      <th>2</th>\n",
       "      <td>2</td>\n",
       "      <td>POLYGON ((-37.07212 -34.29707, -38.40220 -34.2...</td>\n",
       "      <td>[1, 2, 3, 56, 57, 58]</td>\n",
       "    </tr>\n",
       "    <tr>\n",
       "      <th>3</th>\n",
       "      <td>3</td>\n",
       "      <td>POLYGON ((-38.40220 -34.29707, -39.73228 -34.2...</td>\n",
       "      <td>[2, 3, 4, 55, 56, 57]</td>\n",
       "    </tr>\n",
       "    <tr>\n",
       "      <th>4</th>\n",
       "      <td>4</td>\n",
       "      <td>POLYGON ((-39.73228 -34.29707, -41.06235 -34.2...</td>\n",
       "      <td>[3, 4, 5, 54, 55, 56]</td>\n",
       "    </tr>\n",
       "    <tr>\n",
       "      <th>...</th>\n",
       "      <td>...</td>\n",
       "      <td>...</td>\n",
       "      <td>...</td>\n",
       "    </tr>\n",
       "    <tr>\n",
       "      <th>895</th>\n",
       "      <td>895</td>\n",
       "      <td>POLYGON ((-41.06235 5.64861, -39.73228 5.64861...</td>\n",
       "      <td>[864, 865, 866, 894, 895, 896]</td>\n",
       "    </tr>\n",
       "    <tr>\n",
       "      <th>896</th>\n",
       "      <td>896</td>\n",
       "      <td>POLYGON ((-39.73228 5.64861, -38.40220 5.64861...</td>\n",
       "      <td>[865, 866, 867, 895, 896, 897]</td>\n",
       "    </tr>\n",
       "    <tr>\n",
       "      <th>897</th>\n",
       "      <td>897</td>\n",
       "      <td>POLYGON ((-38.40220 5.64861, -37.07212 5.64861...</td>\n",
       "      <td>[866, 867, 868, 896, 897, 898]</td>\n",
       "    </tr>\n",
       "    <tr>\n",
       "      <th>898</th>\n",
       "      <td>898</td>\n",
       "      <td>POLYGON ((-37.07212 5.64861, -35.74204 5.64861...</td>\n",
       "      <td>[867, 868, 869, 897, 898, 899]</td>\n",
       "    </tr>\n",
       "    <tr>\n",
       "      <th>899</th>\n",
       "      <td>899</td>\n",
       "      <td>POLYGON ((-35.74204 5.64861, -34.41196 5.64861...</td>\n",
       "      <td>[868, 869, 898, 899]</td>\n",
       "    </tr>\n",
       "  </tbody>\n",
       "</table>\n",
       "<p>900 rows × 3 columns</p>\n",
       "</div>"
      ],
      "text/plain": [
       "     id_no                                           geometry  \\\n",
       "0        0  POLYGON ((-34.41196 -34.29707, -35.74204 -34.2...   \n",
       "1        1  POLYGON ((-35.74204 -34.29707, -37.07212 -34.2...   \n",
       "2        2  POLYGON ((-37.07212 -34.29707, -38.40220 -34.2...   \n",
       "3        3  POLYGON ((-38.40220 -34.29707, -39.73228 -34.2...   \n",
       "4        4  POLYGON ((-39.73228 -34.29707, -41.06235 -34.2...   \n",
       "..     ...                                                ...   \n",
       "895    895  POLYGON ((-41.06235 5.64861, -39.73228 5.64861...   \n",
       "896    896  POLYGON ((-39.73228 5.64861, -38.40220 5.64861...   \n",
       "897    897  POLYGON ((-38.40220 5.64861, -37.07212 5.64861...   \n",
       "898    898  POLYGON ((-37.07212 5.64861, -35.74204 5.64861...   \n",
       "899    899  POLYGON ((-35.74204 5.64861, -34.41196 5.64861...   \n",
       "\n",
       "                          neighbors  \n",
       "0                    [0, 1, 58, 59]  \n",
       "1             [0, 1, 2, 57, 58, 59]  \n",
       "2             [1, 2, 3, 56, 57, 58]  \n",
       "3             [2, 3, 4, 55, 56, 57]  \n",
       "4             [3, 4, 5, 54, 55, 56]  \n",
       "..                              ...  \n",
       "895  [864, 865, 866, 894, 895, 896]  \n",
       "896  [865, 866, 867, 895, 896, 897]  \n",
       "897  [866, 867, 868, 896, 897, 898]  \n",
       "898  [867, 868, 869, 897, 898, 899]  \n",
       "899            [868, 869, 898, 899]  \n",
       "\n",
       "[900 rows x 3 columns]"
      ]
     },
     "metadata": {},
     "output_type": "display_data"
    }
   ],
   "source": [
    "if __name__ == \"__main__\":\n",
    "    df = main()\n",
    "    display(df)"
   ]
  },
  {
   "cell_type": "code",
   "execution_count": 69,
   "metadata": {},
   "outputs": [
    {
     "data": {
      "text/plain": [
       "<matplotlib.axes._subplots.AxesSubplot at 0x7f8b1be9aa90>"
      ]
     },
     "execution_count": 69,
     "metadata": {},
     "output_type": "execute_result"
    },
    {
     "data": {
      "image/png": "[encoded data removed]",
      "text/plain": [
       "<Figure size 432x288 with 1 Axes>"
      ]
     },
     "metadata": {
      "needs_background": "light"
     },
     "output_type": "display_data"
    }
   ],
   "source": [
    "ax = df [ df.id_no.isin(df.loc[895, 'neighbors'])].plot(color='red', edgecolor='white')"
   ]
  },
  {
   "cell_type": "code",
   "execution_count": 76,
   "metadata": {},
   "outputs": [],
   "source": [
    "def get_len(arr):\n",
    "    \n",
    "    return len(arr)"
   ]
  },
  {
   "cell_type": "code",
   "execution_count": 86,
   "metadata": {},
   "outputs": [],
   "source": []
  },
  {
   "cell_type": "code",
   "execution_count": null,
   "metadata": {},
   "outputs": [],
   "source": []
  }
 ],
 "metadata": {
  "kernelspec": {
   "display_name": "Python 3",
   "language": "python",
   "name": "python3"
  },
  "language_info": {
   "codemirror_mode": {
    "name": "ipython",
    "version": 3
   },
   "file_extension": ".py",
   "mimetype": "text/x-python",
   "name": "python",
   "nbconvert_exporter": "python",
   "pygments_lexer": "ipython3",
   "version": "3.8.3"
  }
 },
 "nbformat": 4,
 "nbformat_minor": 4
}
